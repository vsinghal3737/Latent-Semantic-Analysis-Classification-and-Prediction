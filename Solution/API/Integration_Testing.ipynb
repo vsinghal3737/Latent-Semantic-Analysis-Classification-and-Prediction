{
 "cells": [
  {
   "cell_type": "code",
   "execution_count": 3,
   "metadata": {},
   "outputs": [],
   "source": [
    "from LSA import LSA\n",
    "from Testing import Testing\n",
    "from PreprocessingData import PreprocessingData\n",
    "from Prediction import Prediction"
   ]
  },
  {
   "cell_type": "code",
   "execution_count": 4,
   "metadata": {},
   "outputs": [],
   "source": [
    "path = '..\\\\shuffled-full-set-hashed.csv'"
   ]
  },
  {
   "cell_type": "code",
   "execution_count": 5,
   "metadata": {},
   "outputs": [],
   "source": [
    "data = PreprocessingData(path)\n",
    "data.DataSplit()\n",
    "data.WordMapper()\n",
    "data.SwapWordByMapper()\n",
    "data.CategorizeForEach()\n",
    "data.CatergorizeForAll()"
   ]
  },
  {
   "cell_type": "code",
   "execution_count": 6,
   "metadata": {},
   "outputs": [],
   "source": [
    "lsa = LSA(data)\n",
    "lsa.TF_IDF()\n",
    "lsa.TopWords()"
   ]
  },
  {
   "cell_type": "code",
   "execution_count": 10,
   "metadata": {},
   "outputs": [],
   "source": [
    "prediction = Prediction(lsa, data)\n",
    "predictedOutput = prediction.predictMany(data.TestingData['input'])"
   ]
  },
  {
   "cell_type": "code",
   "execution_count": 11,
   "metadata": {},
   "outputs": [],
   "source": [
    "actualOutput = data.TestingData['output']"
   ]
  },
  {
   "cell_type": "code",
   "execution_count": 92,
   "metadata": {},
   "outputs": [
    {
     "name": "stdout",
     "output_type": "stream",
     "text": [
      "0.8552123552123552 0.8985698740867403 0.8923278789749923 0.89543799860584\n",
      "0.938009438009438 0.9877419746343832 0.944634670071383 0.9657075051913379\n",
      "0.8792900042900043 0.8834674128483153 0.983643798273512 0.9308682165781149\n",
      "0.8788073788073788 0.9052422986849217 0.9567176492987244 0.9302684356680039\n",
      "0.929000429000429 0.9467729180607093 0.9719602822706551 0.9592012818932577\n",
      "0.9741527241527241 0.9966452180608261 0.977296014668608 0.9868757828241573\n",
      "0.9620334620334621 0.9836629908396056 0.9752415109619945 0.9794341486086098\n",
      "0.9958172458172458 0.998585726718886 0.9971754481260184 0.9978800891449693\n",
      "0.9626769626769627 0.9943102582696491 0.9677506922199902 0.9808507125956089\n",
      "0.9532389532389532 0.9906379638972979 0.961634740966478 0.9759209145634284\n",
      "0.9736164736164736 0.997610048910627 0.9755951733884117 0.986479802143446\n",
      "0.9934577434577434 0.998109640831758 0.9953142672483438 0.9967099940672025\n",
      "0.9897039897039897 0.9960922659430123 0.9935040329128999 0.9947964659331129\n",
      "0.9892213642213642 0.9988062940857297 0.9903696131704955 0.9945700624037604\n"
     ]
    }
   ],
   "source": [
    "testing = Testing(actualOutput, predictedOutput, list(data.keys))\n",
    "testing.ConfusionMatrix()\n",
    "testing.Score()"
   ]
  },
  {
   "cell_type": "code",
   "execution_count": 91,
   "metadata": {
    "scrolled": true
   },
   "outputs": [
    {
     "name": "stdout",
     "output_type": "stream",
     "text": [
      "Lable                         Accuracy       Precision      Recall         F1_Score       Support\n",
      "_________________________________________________________________________________________________\n",
      "BILL                          0.86           0.9            0.89           0.9            5692           \n",
      "DELETION OF INTEREST          0.94           0.99           0.94           0.97           1417           \n",
      "POLICY CHANGE                 0.88           0.88           0.98           0.93           3241           \n",
      "CANCELLATION NOTICE           0.88           0.91           0.96           0.93           2891           \n",
      "BINDER                        0.93           0.95           0.97           0.96           2635           \n",
      "BILL BINDER                   0.97           1.0            0.98           0.99           105            \n",
      "REINSTATEMENT NOTICE          0.96           0.98           0.98           0.98           1361           \n",
      "RETURNED CHECK                1.0            1.0            1.0            1.0            238            \n",
      "EXPIRATION NOTICE             0.96           0.99           0.97           0.98           229            \n",
      "DECLARATION                   0.95           0.99           0.96           0.98           272            \n",
      "CHANGE ENDORSEMENT            0.97           1.0            0.98           0.99           250            \n",
      "INTENT TO CANCEL NOTICE       0.99           1.0            1.0            1.0            81             \n",
      "NON-RENEWAL NOTICE            0.99           1.0            0.99           0.99           175            \n",
      "APPLICATION                   0.99           1.0            0.99           0.99           61             \n",
      "18648\n"
     ]
    }
   ],
   "source": [
    "print('Lable                         Accuracy       Precision      Recall         F1_Score       Support')\n",
    "print('_________________________________________________________________________________________________')\n",
    "for key in data.keys:\n",
    "    print('{:30}'.format(key),end='')\n",
    "    for score in testing.score[key]:\n",
    "        print('{:15}'.format(str(round(testing.score[key][score], 2))),end='')\n",
    "    print()\n",
    "temp = 0\n",
    "for key in data.keys:\n",
    "    temp += testing.score[key]['Support']"
   ]
  }
 ],
 "metadata": {
  "kernelspec": {
   "display_name": "Python 3",
   "language": "python",
   "name": "python3"
  },
  "language_info": {
   "codemirror_mode": {
    "name": "ipython",
    "version": 3
   },
   "file_extension": ".py",
   "mimetype": "text/x-python",
   "name": "python",
   "nbconvert_exporter": "python",
   "pygments_lexer": "ipython3",
   "version": "3.7.0"
  }
 },
 "nbformat": 4,
 "nbformat_minor": 2
}
