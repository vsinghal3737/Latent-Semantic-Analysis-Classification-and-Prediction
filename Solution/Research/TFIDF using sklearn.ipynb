{
 "cells": [
  {
   "cell_type": "code",
   "execution_count": null,
   "metadata": {},
   "outputs": [],
   "source": [
    "import numpy as np\n",
    "import pandas as pd\n",
    "import matplotlib\n",
    "import sklearn\n",
    "import math\n",
    "from sklearn.model_selection import train_test_split, KFold, cross_val_score, GridSearchCV\n",
    "from sklearn.svm import SVC\n",
    "from sklearn.feature_extraction.text import TfidfVectorizer\n",
    "from sklearn.decomposition import TruncatedSVD\n",
    "import functools\n",
    "from copy import deepcopy\n",
    "import math"
   ]
  },
  {
   "cell_type": "code",
   "execution_count": null,
   "metadata": {},
   "outputs": [],
   "source": [
    "pd.set_option('display.max_columns', 500)\n",
    "pd.set_option('display.max_rows', 500)\n",
    "np.set_printoptions(precision=4, suppress=True)"
   ]
  },
  {
   "cell_type": "code",
   "execution_count": null,
   "metadata": {},
   "outputs": [],
   "source": [
    "x = '..\\..\\Problem\\shuffled-full-set-hashed.csv'\n",
    "data = pd.read_csv(x, header=None)\n",
    "df = pd.DataFrame(data)\n",
    "df.columns = ['output','input']\n",
    "df.dropna(inplace=True)"
   ]
  },
  {
   "cell_type": "code",
   "execution_count": null,
   "metadata": {},
   "outputs": [],
   "source": [
    "# WordMapper\n",
    "mapper = {}\n",
    "ID = 0\n",
    "for i in range(len(df)):\n",
    "    for word in df.iloc[i][1].split(' '):\n",
    "        if word not in mapper:\n",
    "            mapper[word] = (word, str(ID))\n",
    "            ID += 1"
   ]
  },
  {
   "cell_type": "code",
   "execution_count": null,
   "metadata": {},
   "outputs": [],
   "source": [
    "# WordSwapperWithMapper\n",
    "temp = []\n",
    "x = []\n",
    "for i in range(len(df)):\n",
    "    for word in df.iloc[i][1].split(' '):\n",
    "        temp.append(mapper[word][1])\n",
    "    df.iloc[i][1] = temp[:]\n",
    "    temp = []"
   ]
  },
  {
   "cell_type": "code",
   "execution_count": null,
   "metadata": {},
   "outputs": [],
   "source": [
    "# Output Dic {Output: [Input(s)]}\n",
    "docForEach = {}\n",
    "for i in range(len(df)):\n",
    "    if df.iloc[i][0] in docForEach:\n",
    "        docForEach[df.iloc[i][0]].extend(df.iloc[i][1][:])\n",
    "    else:\n",
    "        docForEach[df.iloc[i][0]] = df.iloc[i][1][:]\n",
    "keys = docForEach.keys()"
   ]
  },
  {
   "cell_type": "code",
   "execution_count": null,
   "metadata": {},
   "outputs": [],
   "source": [
    "docForEach"
   ]
  },
  {
   "cell_type": "code",
   "execution_count": null,
   "metadata": {},
   "outputs": [],
   "source": [
    "vectorizer = TfidfVectorizer(use_idf=True, ngram_range=(1,3))\n",
    "X = vectorizer.fit_transform([' '.join(docForEach[key]) for key in keys])"
   ]
  },
  {
   "cell_type": "code",
   "execution_count": null,
   "metadata": {},
   "outputs": [],
   "source": [
    "X[0]"
   ]
  },
  {
   "cell_type": "code",
   "execution_count": null,
   "metadata": {},
   "outputs": [],
   "source": [
    "X.shape"
   ]
  },
  {
   "cell_type": "code",
   "execution_count": null,
   "metadata": {
    "scrolled": true
   },
   "outputs": [],
   "source": [
    "# lsa = TruncatedSVD(n_components=X.shape[0], n_iter=100)\n",
    "# lsa.fit(X)"
   ]
  },
  {
   "cell_type": "code",
   "execution_count": null,
   "metadata": {},
   "outputs": [],
   "source": [
    "len(X[0].toarray().tolist()[0])"
   ]
  }
 ],
 "metadata": {
  "kernelspec": {
   "display_name": "Python 3",
   "language": "python",
   "name": "python3"
  },
  "language_info": {
   "codemirror_mode": {
    "name": "ipython",
    "version": 3
   },
   "file_extension": ".py",
   "mimetype": "text/x-python",
   "name": "python",
   "nbconvert_exporter": "python",
   "pygments_lexer": "ipython3",
   "version": "3.7.0"
  }
 },
 "nbformat": 4,
 "nbformat_minor": 2
}
