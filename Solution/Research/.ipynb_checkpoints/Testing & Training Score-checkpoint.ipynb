{
 "cells": [
  {
   "cell_type": "code",
   "execution_count": 1,
   "metadata": {},
   "outputs": [],
   "source": [
    "import sys, os\n",
    "if os.path.abspath('..\\\\Development') not in sys.path:\n",
    "    sys.path.insert(0, os.path.abspath('..\\\\Development'))"
   ]
  },
  {
   "cell_type": "code",
   "execution_count": 2,
   "metadata": {},
   "outputs": [],
   "source": [
    "from LSA import LSA\n",
    "from Testing import Testing\n",
    "from PreprocessingData import PreprocessingData\n",
    "from Prediction import Prediction\n",
    "import numpy as np\n",
    "from sklearn.metrics import multilabel_confusion_matrix, classification_report"
   ]
  },
  {
   "cell_type": "code",
   "execution_count": 3,
   "metadata": {},
   "outputs": [],
   "source": [
    "path = '..\\..\\Problem\\shuffled-full-set-hashed.csv'"
   ]
  },
  {
   "cell_type": "code",
   "execution_count": 4,
   "metadata": {},
   "outputs": [],
   "source": [
    "data = PreprocessingData(path)\n",
    "data.DataSplit()\n",
    "data.WordMapper()\n",
    "data.SwapWordByMapper()\n",
    "data.CategorizeForEach()\n",
    "data.CatergorizeForAll()"
   ]
  },
  {
   "cell_type": "code",
   "execution_count": 5,
   "metadata": {},
   "outputs": [],
   "source": [
    "lsa = LSA(data)\n",
    "lsa.TF_IDF()\n",
    "lsa.TopWords()"
   ]
  },
  {
   "cell_type": "code",
   "execution_count": 6,
   "metadata": {},
   "outputs": [],
   "source": [
    "Input = data.TestingData['input']\n",
    "Output = data.TestingData['output']"
   ]
  },
  {
   "cell_type": "code",
   "execution_count": 7,
   "metadata": {},
   "outputs": [],
   "source": [
    "prediction = Prediction(lsa, data)\n",
    "predictedValues = np.array(prediction.predictMany(data.TestingData['input']))"
   ]
  },
  {
   "cell_type": "code",
   "execution_count": 18,
   "metadata": {},
   "outputs": [
    {
     "name": "stdout",
     "output_type": "stream",
     "text": [
      "[[[14637  1312]\n",
      "  [  905  1794]]\n",
      "\n",
      " [[12133   868]\n",
      "  [ 1510  4137]]\n",
      "\n",
      " [[15123   352]\n",
      "  [ 1824  1349]]\n",
      "\n",
      " [[16798   533]\n",
      "  [  358   959]]\n",
      "\n",
      " [[15130   628]\n",
      "  [ 1531  1359]]\n",
      "\n",
      " [[18374    52]\n",
      "  [   25   197]]\n",
      "\n",
      " [[16643   533]\n",
      "  [  291  1181]]\n",
      "\n",
      " [[18346   234]\n",
      "  [   29    39]]\n",
      "\n",
      " [[18341   239]\n",
      "  [   22    46]]\n",
      "\n",
      " [[18085   288]\n",
      "  [   40   235]]\n",
      "\n",
      " [[18244   315]\n",
      "  [   50    39]]\n",
      "\n",
      " [[17390   950]\n",
      "  [  162   146]]\n",
      "\n",
      " [[17970   445]\n",
      "  [   97   136]]\n",
      "\n",
      " [[18297   164]\n",
      "  [   69   118]]]\n"
     ]
    }
   ],
   "source": [
    "confusionMatrix = multilabel_confusion_matrix(Output, predictedValues, labels=list(data.keys))\n",
    "confusionMatrix"
   ]
  },
  {
   "cell_type": "code",
   "execution_count": 17,
   "metadata": {
    "scrolled": false
   },
   "outputs": [],
   "source": [
    "# confusionReport = classification_report(Output, predictedValues, labels=list(data.keys))\n",
    "# print(confusionReport)"
   ]
  },
  {
   "cell_type": "code",
   "execution_count": 10,
   "metadata": {},
   "outputs": [
    {
     "name": "stdout",
     "output_type": "stream",
     "text": [
      "0.8811132561132561 0.9417706858834127 0.9177377892030848 0.9295989330284842\n"
     ]
    }
   ],
   "source": [
    "#SCORE\n",
    "TP = confusionMatrix[0][0][0]\n",
    "FN = confusionMatrix[0][0][1]\n",
    "FP = confusionMatrix[0][1][0]\n",
    "TN = confusionMatrix[0][1][1]\n",
    "\n",
    "Accuracy = (TP + TN) / (TP + TN + FP + FN)\n",
    "Precision = TP / (TP + FP)\n",
    "Recall =  TP / (TP + FN)\n",
    "F1_Score = 2 * Recall * Precision / (Recall + Precision)\n",
    "\n",
    "print(Accuracy, Precision, Recall, F1_Score)"
   ]
  },
  {
   "cell_type": "code",
   "execution_count": 15,
   "metadata": {},
   "outputs": [],
   "source": [
    "# for i in range(14):\n",
    "#     TP = confusionMatrix[i][0][0]\n",
    "#     FN = confusionMatrix[i][0][1]\n",
    "#     FP = confusionMatrix[i][1][0]\n",
    "#     TN = confusionMatrix[i][1][1]\n",
    "#     print(TP+FN+FP+TN)\n"
   ]
  },
  {
   "cell_type": "code",
   "execution_count": 16,
   "metadata": {
    "scrolled": false
   },
   "outputs": [
    {
     "data": {
      "text/plain": [
       "{'BILL': 5647,\n",
       " 'BINDER': 2699,\n",
       " 'POLICY CHANGE': 3173,\n",
       " 'REINSTATEMENT NOTICE': 1317,\n",
       " 'APPLICATION': 68,\n",
       " 'RETURNED CHECK': 222,\n",
       " 'CANCELLATION NOTICE': 2890,\n",
       " 'DELETION OF INTEREST': 1472,\n",
       " 'CHANGE ENDORSEMENT': 275,\n",
       " 'NON-RENEWAL NOTICE': 187,\n",
       " 'DECLARATION': 308,\n",
       " 'BILL BINDER': 89,\n",
       " 'INTENT TO CANCEL NOTICE': 68,\n",
       " 'EXPIRATION NOTICE': 233}"
      ]
     },
     "execution_count": 16,
     "metadata": {},
     "output_type": "execute_result"
    }
   ],
   "source": [
    "support = {}\n",
    "for i in Output:\n",
    "    if i in support:\n",
    "        support[i] +=1\n",
    "    else:\n",
    "        support[i] = 1\n",
    "support"
   ]
  },
  {
   "cell_type": "code",
   "execution_count": 7,
   "metadata": {},
   "outputs": [
    {
     "ename": "SyntaxError",
     "evalue": "EOL while scanning string literal (<ipython-input-7-12a799fa9ce7>, line 2)",
     "output_type": "error",
     "traceback": [
      "\u001b[1;36m  File \u001b[1;32m\"<ipython-input-7-12a799fa9ce7>\"\u001b[1;36m, line \u001b[1;32m2\u001b[0m\n\u001b[1;33m    os.path.abspath('').replace('\\\\','\\')\u001b[0m\n\u001b[1;37m                                         ^\u001b[0m\n\u001b[1;31mSyntaxError\u001b[0m\u001b[1;31m:\u001b[0m EOL while scanning string literal\n"
     ]
    }
   ],
   "source": [
    "import sys, os\n",
    "os.path.abspath('').replace(\"\\\\\\\\\",\"\\\\\")\n",
    "# if os.path.abspath('..\\\\Development') not in sys.path:\n",
    "#     sys.path.insert(0, os.path.abspath('..\\\\Development'))"
   ]
  }
 ],
 "metadata": {
  "kernelspec": {
   "display_name": "Python 3",
   "language": "python",
   "name": "python3"
  },
  "language_info": {
   "codemirror_mode": {
    "name": "ipython",
    "version": 3
   },
   "file_extension": ".py",
   "mimetype": "text/x-python",
   "name": "python",
   "nbconvert_exporter": "python",
   "pygments_lexer": "ipython3",
   "version": "3.7.0"
  }
 },
 "nbformat": 4,
 "nbformat_minor": 2
}
